{
 "cells": [
  {
   "cell_type": "code",
   "execution_count": 2,
   "metadata": {
    "collapsed": true
   },
   "outputs": [],
   "source": [
    "import pandas as pd\n",
    "killings = pd.read_csv('/Users/Wong/GA/SF_DAT_15_WORK/hw/police-killings.csv')"
   ]
  },
  {
   "cell_type": "code",
   "execution_count": 3,
   "metadata": {
    "collapsed": true
   },
   "outputs": [],
   "source": [
    "killings.rename(columns={'lawenforcementagency':'agency', 'raceethnicity':'race'}, inplace=True)"
   ]
  },
  {
   "cell_type": "code",
   "execution_count": 4,
   "metadata": {
    "collapsed": false
   },
   "outputs": [
    {
     "data": {
      "text/plain": [
       "Index([u'Unnamed: 0', u'name', u'age', u'gender', u'race', u'month', u'day', u'year', u'streetaddress', u'city', u'state', u'agency', u'cause', u'armed', u'county_income'], dtype='object')"
      ]
     },
     "execution_count": 4,
     "metadata": {},
     "output_type": "execute_result"
    }
   ],
   "source": [
    "killings.columns #want to check columns"
   ]
  },
  {
   "cell_type": "code",
   "execution_count": 5,
   "metadata": {
    "collapsed": false
   },
   "outputs": [
    {
     "data": {
      "text/html": [
       "<div style=\"max-height:1000px;max-width:1500px;overflow:auto;\">\n",
       "<table border=\"1\" class=\"dataframe\">\n",
       "  <thead>\n",
       "    <tr style=\"text-align: right;\">\n",
       "      <th></th>\n",
       "      <th>Unnamed: 0</th>\n",
       "      <th>name</th>\n",
       "      <th>age</th>\n",
       "      <th>gender</th>\n",
       "      <th>race</th>\n",
       "      <th>month</th>\n",
       "      <th>day</th>\n",
       "      <th>year</th>\n",
       "      <th>streetaddress</th>\n",
       "      <th>city</th>\n",
       "      <th>state</th>\n",
       "      <th>agency</th>\n",
       "      <th>cause</th>\n",
       "      <th>armed</th>\n",
       "      <th>county_income</th>\n",
       "    </tr>\n",
       "  </thead>\n",
       "  <tbody>\n",
       "    <tr>\n",
       "      <th>0</th>\n",
       "      <td> 0</td>\n",
       "      <td> A'donte Washington</td>\n",
       "      <td> 16</td>\n",
       "      <td> Male</td>\n",
       "      <td>           Black</td>\n",
       "      <td> February</td>\n",
       "      <td> 23</td>\n",
       "      <td> 2015</td>\n",
       "      <td>           Clearview Ln</td>\n",
       "      <td>    Millbrook</td>\n",
       "      <td> AL</td>\n",
       "      <td>     Millbrook Police Department</td>\n",
       "      <td> Gunshot</td>\n",
       "      <td>      No</td>\n",
       "      <td> 54766</td>\n",
       "    </tr>\n",
       "    <tr>\n",
       "      <th>1</th>\n",
       "      <td> 1</td>\n",
       "      <td>     Aaron Rutledge</td>\n",
       "      <td> 27</td>\n",
       "      <td> Male</td>\n",
       "      <td>           White</td>\n",
       "      <td>    April</td>\n",
       "      <td>  2</td>\n",
       "      <td> 2015</td>\n",
       "      <td> 300 block Iris Park Dr</td>\n",
       "      <td>    Pineville</td>\n",
       "      <td> LA</td>\n",
       "      <td> Rapides Parish Sheriff's Office</td>\n",
       "      <td> Gunshot</td>\n",
       "      <td>      No</td>\n",
       "      <td> 40930</td>\n",
       "    </tr>\n",
       "    <tr>\n",
       "      <th>2</th>\n",
       "      <td> 2</td>\n",
       "      <td>        Aaron Siler</td>\n",
       "      <td> 26</td>\n",
       "      <td> Male</td>\n",
       "      <td>           White</td>\n",
       "      <td>    March</td>\n",
       "      <td> 14</td>\n",
       "      <td> 2015</td>\n",
       "      <td>   22nd Ave and 56th St</td>\n",
       "      <td>      Kenosha</td>\n",
       "      <td> WI</td>\n",
       "      <td>       Kenosha Police Department</td>\n",
       "      <td> Gunshot</td>\n",
       "      <td>      No</td>\n",
       "      <td> 54930</td>\n",
       "    </tr>\n",
       "    <tr>\n",
       "      <th>3</th>\n",
       "      <td> 3</td>\n",
       "      <td>       Aaron Valdez</td>\n",
       "      <td> 25</td>\n",
       "      <td> Male</td>\n",
       "      <td> Hispanic/Latino</td>\n",
       "      <td>    March</td>\n",
       "      <td> 11</td>\n",
       "      <td> 2015</td>\n",
       "      <td>      3000 Seminole Ave</td>\n",
       "      <td>   South Gate</td>\n",
       "      <td> CA</td>\n",
       "      <td>    South Gate Police Department</td>\n",
       "      <td> Gunshot</td>\n",
       "      <td> Firearm</td>\n",
       "      <td> 55909</td>\n",
       "    </tr>\n",
       "    <tr>\n",
       "      <th>4</th>\n",
       "      <td> 4</td>\n",
       "      <td>       Adam Jovicic</td>\n",
       "      <td> 29</td>\n",
       "      <td> Male</td>\n",
       "      <td>           White</td>\n",
       "      <td>    March</td>\n",
       "      <td> 19</td>\n",
       "      <td> 2015</td>\n",
       "      <td>         364 Hiwood Ave</td>\n",
       "      <td> Munroe Falls</td>\n",
       "      <td> OH</td>\n",
       "      <td>          Kent Police Department</td>\n",
       "      <td> Gunshot</td>\n",
       "      <td>      No</td>\n",
       "      <td> 49669</td>\n",
       "    </tr>\n",
       "  </tbody>\n",
       "</table>\n",
       "</div>"
      ],
      "text/plain": [
       "   Unnamed: 0                name  age gender             race     month  day  \\\n",
       "0           0  A'donte Washington   16   Male            Black  February   23   \n",
       "1           1      Aaron Rutledge   27   Male            White     April    2   \n",
       "2           2         Aaron Siler   26   Male            White     March   14   \n",
       "3           3        Aaron Valdez   25   Male  Hispanic/Latino     March   11   \n",
       "4           4        Adam Jovicic   29   Male            White     March   19   \n",
       "\n",
       "   year           streetaddress          city state  \\\n",
       "0  2015            Clearview Ln     Millbrook    AL   \n",
       "1  2015  300 block Iris Park Dr     Pineville    LA   \n",
       "2  2015    22nd Ave and 56th St       Kenosha    WI   \n",
       "3  2015       3000 Seminole Ave    South Gate    CA   \n",
       "4  2015          364 Hiwood Ave  Munroe Falls    OH   \n",
       "\n",
       "                            agency    cause    armed  county_income  \n",
       "0      Millbrook Police Department  Gunshot       No          54766  \n",
       "1  Rapides Parish Sheriff's Office  Gunshot       No          40930  \n",
       "2        Kenosha Police Department  Gunshot       No          54930  \n",
       "3     South Gate Police Department  Gunshot  Firearm          55909  \n",
       "4           Kent Police Department  Gunshot       No          49669  "
      ]
     },
     "execution_count": 5,
     "metadata": {},
     "output_type": "execute_result"
    }
   ],
   "source": [
    "killings.head()"
   ]
  },
  {
   "cell_type": "code",
   "execution_count": 6,
   "metadata": {
    "collapsed": false
   },
   "outputs": [
    {
     "data": {
      "text/plain": [
       "pandas.core.series.Series"
      ]
     },
     "execution_count": 6,
     "metadata": {},
     "output_type": "execute_result"
    }
   ],
   "source": [
    "type(killings.year)"
   ]
  },
  {
   "cell_type": "code",
   "execution_count": 7,
   "metadata": {
    "collapsed": false
   },
   "outputs": [
    {
     "data": {
      "text/plain": [
       "(467, 15)"
      ]
     },
     "execution_count": 7,
     "metadata": {},
     "output_type": "execute_result"
    }
   ],
   "source": [
    "killings.shape"
   ]
  },
  {
   "cell_type": "code",
   "execution_count": 8,
   "metadata": {
    "collapsed": false
   },
   "outputs": [
    {
     "data": {
      "text/plain": [
       "Unnamed: 0       0\n",
       "name             0\n",
       "age              0\n",
       "gender           0\n",
       "race             0\n",
       "month            0\n",
       "day              0\n",
       "year             0\n",
       "streetaddress    4\n",
       "city             0\n",
       "state            0\n",
       "agency           0\n",
       "cause            0\n",
       "armed            0\n",
       "county_income    0\n",
       "dtype: int64"
      ]
     },
     "execution_count": 8,
     "metadata": {},
     "output_type": "execute_result"
    }
   ],
   "source": [
    "killings.isnull().sum() #need to take out shape and case sensitive"
   ]
  },
  {
   "cell_type": "code",
   "execution_count": 9,
   "metadata": {
    "collapsed": true
   },
   "outputs": [],
   "source": [
    "killings.streetaddress.fillna(value='Unknown', inplace=True)"
   ]
  },
  {
   "cell_type": "code",
   "execution_count": 10,
   "metadata": {
    "collapsed": false
   },
   "outputs": [
    {
     "data": {
      "text/plain": [
       "Unnamed: 0        int64\n",
       "name             object\n",
       "age               int64\n",
       "gender           object\n",
       "race             object\n",
       "month            object\n",
       "day               int64\n",
       "year              int64\n",
       "streetaddress    object\n",
       "city             object\n",
       "state            object\n",
       "agency           object\n",
       "cause            object\n",
       "armed            object\n",
       "county_income     int64\n",
       "dtype: object"
      ]
     },
     "execution_count": 10,
     "metadata": {},
     "output_type": "execute_result"
    }
   ],
   "source": [
    "killings[killings.year==2015].shape[0]\n",
    "#int or string\n",
    "killings.dtypes"
   ]
  },
  {
   "cell_type": "code",
   "execution_count": 11,
   "metadata": {
    "collapsed": false
   },
   "outputs": [
    {
     "data": {
      "text/plain": [
       "Male      445\n",
       "Female     22\n",
       "dtype: int64"
      ]
     },
     "execution_count": 11,
     "metadata": {},
     "output_type": "execute_result"
    }
   ],
   "source": [
    "killings.gender.value_counts()"
   ]
  },
  {
   "cell_type": "code",
   "execution_count": 12,
   "metadata": {
    "collapsed": false
   },
   "outputs": [
    {
     "data": {
      "text/plain": [
       "0.5"
      ]
     },
     "execution_count": 12,
     "metadata": {},
     "output_type": "execute_result"
    }
   ],
   "source": [
    "killings.shape\n",
    "#row, column\n",
    "1 / 2.0"
   ]
  },
  {
   "cell_type": "code",
   "execution_count": 13,
   "metadata": {
    "collapsed": false
   },
   "outputs": [
    {
     "data": {
      "text/plain": [
       "102"
      ]
     },
     "execution_count": 13,
     "metadata": {},
     "output_type": "execute_result"
    }
   ],
   "source": [
    "killings[killings.armed == 'No'].shape[0]"
   ]
  },
  {
   "cell_type": "code",
   "execution_count": 14,
   "metadata": {
    "collapsed": false
   },
   "outputs": [
    {
     "name": "stdout",
     "output_type": "stream",
     "text": [
      "102\n",
      "467\n",
      "0.218415417559\n"
     ]
    },
    {
     "data": {
      "text/plain": [
       "Firearm               0.492505\n",
       "No                    0.218415\n",
       "Knife                 0.145610\n",
       "Other                 0.055675\n",
       "Vehicle               0.038544\n",
       "Non-lethal firearm    0.029979\n",
       "Unknown               0.014989\n",
       "Disputed              0.004283\n",
       "dtype: float64"
      ]
     },
     "execution_count": 14,
     "metadata": {},
     "output_type": "execute_result"
    }
   ],
   "source": [
    "print killings[killings.armed == 'No'].shape[0]\n",
    "print killings.shape[0]\n",
    "\n",
    "print float(102)/467\n",
    "\n",
    "killings.armed.value_counts()/killings.shape[0]"
   ]
  },
  {
   "cell_type": "code",
   "execution_count": 15,
   "metadata": {
    "collapsed": false
   },
   "outputs": [
    {
     "data": {
      "text/plain": [
       "CA    74\n",
       "TX    46\n",
       "FL    29\n",
       "AZ    25\n",
       "OK    22\n",
       "dtype: int64"
      ]
     },
     "execution_count": 15,
     "metadata": {},
     "output_type": "execute_result"
    }
   ],
   "source": [
    "killings.groupby('state').state.count()\n",
    "#state is only to see the state column\n",
    "killings.state.value_counts().head(5)\n",
    "#sorts"
   ]
  },
  {
   "cell_type": "code",
   "execution_count": 16,
   "metadata": {
    "collapsed": false
   },
   "outputs": [
    {
     "data": {
      "text/plain": [
       "White                     236\n",
       "Black                     135\n",
       "Hispanic/Latino            67\n",
       "Unknown                    15\n",
       "Asian/Pacific Islander     10\n",
       "Native American             4\n",
       "dtype: int64"
      ]
     },
     "execution_count": 16,
     "metadata": {},
     "output_type": "execute_result"
    }
   ],
   "source": [
    "killings.race.value_counts()"
   ]
  },
  {
   "cell_type": "code",
   "execution_count": 17,
   "metadata": {
    "collapsed": false
   },
   "outputs": [
    {
     "data": {
      "text/plain": [
       "<matplotlib.text.Text at 0x10a0df4d0>"
      ]
     },
     "execution_count": 17,
     "metadata": {},
     "output_type": "execute_result"
    },
    {
     "data": {
      "image/png": "[encoded data removed]",
      "text/plain": [
       "<matplotlib.figure.Figure at 0x10a0aa150>"
      ]
     },
     "metadata": {},
     "output_type": "display_data"
    }
   ],
   "source": [
    "%matplotlib inline  \n",
    "killings.age.hist()\n",
    "import matplotlib.pyplot as plt\n",
    "plt.xlabel('Age')\n",
    "plt.ylabel('Killings')"
   ]
  },
  {
   "cell_type": "code",
   "execution_count": 18,
   "metadata": {
    "collapsed": false
   },
   "outputs": [
    {
     "data": {
      "text/plain": [
       "array([[<matplotlib.axes._subplots.AxesSubplot object at 0x10a13dfd0>,\n",
       "        <matplotlib.axes._subplots.AxesSubplot object at 0x10a1f9c50>],\n",
       "       [<matplotlib.axes._subplots.AxesSubplot object at 0x10a403a50>,\n",
       "        <matplotlib.axes._subplots.AxesSubplot object at 0x10a45ffd0>],\n",
       "       [<matplotlib.axes._subplots.AxesSubplot object at 0x10a4f0050>,\n",
       "        <matplotlib.axes._subplots.AxesSubplot object at 0x10a4a5ad0>]], dtype=object)"
      ]
     },
     "execution_count": 18,
     "metadata": {},
     "output_type": "execute_result"
    },
    {
     "data": {
      "image/png": "[encoded data removed]",
      "text/plain": [
       "<matplotlib.figure.Figure at 0x1092b86d0>"
      ]
     },
     "metadata": {},
     "output_type": "display_data"
    }
   ],
   "source": [
    "#killings.age.hist(by=killings.race)\n",
    "killings.age.hist(by=killings.race, sharex=True, sharey=True)"
   ]
  },
  {
   "cell_type": "code",
   "execution_count": 19,
   "metadata": {
    "collapsed": false
   },
   "outputs": [
    {
     "data": {
      "text/plain": [
       "<matplotlib.text.Text at 0x10aa2f210>"
      ]
     },
     "execution_count": 19,
     "metadata": {},
     "output_type": "execute_result"
    },
    {
     "data": {
      "image/png": "[encoded data removed]",
      "text/plain": [
       "<matplotlib.figure.Figure at 0x10a8f3dd0>"
      ]
     },
     "metadata": {},
     "output_type": "display_data"
    }
   ],
   "source": [
    "killings.groupby('race').age.mean().plot(kind='bar')\n",
    "plt.ylabel('Average Age of Death')\n",
    "plt.title('Average Age of Death by Race')"
   ]
  },
  {
   "cell_type": "code",
   "execution_count": 20,
   "metadata": {
    "collapsed": false
   },
   "outputs": [
    {
     "data": {
      "text/plain": [
       "<matplotlib.axes._subplots.AxesSubplot at 0x10aab4c50>"
      ]
     },
     "execution_count": 20,
     "metadata": {},
     "output_type": "execute_result"
    },
    {
     "data": {
      "image/png": "[encoded data removed]",
      "text/plain": [
       "<matplotlib.figure.Figure at 0x10a8fa550>"
      ]
     },
     "metadata": {},
     "output_type": "display_data"
    }
   ],
   "source": [
    "killings.month.value_counts().plot(kind='bar', title='Deaths by Month')\n",
    "#value_counts is always by month"
   ]
  },
  {
   "cell_type": "code",
   "execution_count": 21,
   "metadata": {
    "collapsed": false
   },
   "outputs": [],
   "source": [
    "majors = pd.read_csv('/Users/Wong/GA/SF_DAT_15/hw/data/college-majors.csv')"
   ]
  },
  {
   "cell_type": "code",
   "execution_count": 22,
   "metadata": {
    "collapsed": false,
    "scrolled": true
   },
   "outputs": [
    {
     "data": {
      "text/html": [
       "<div style=\"max-height:1000px;max-width:1500px;overflow:auto;\">\n",
       "<table border=\"1\" class=\"dataframe\">\n",
       "  <thead>\n",
       "    <tr style=\"text-align: right;\">\n",
       "      <th></th>\n",
       "      <th>Unnamed: 0</th>\n",
       "      <th>Major_code</th>\n",
       "      <th>Major</th>\n",
       "      <th>Major_category</th>\n",
       "      <th>Total</th>\n",
       "      <th>Employed</th>\n",
       "      <th>Employed_full_time_year_round</th>\n",
       "      <th>Unemployed</th>\n",
       "      <th>Unemployment_rate</th>\n",
       "      <th>Median</th>\n",
       "      <th>P25th</th>\n",
       "      <th>P75th</th>\n",
       "    </tr>\n",
       "  </thead>\n",
       "  <tbody>\n",
       "    <tr>\n",
       "      <th>0</th>\n",
       "      <td> 0</td>\n",
       "      <td> 1100</td>\n",
       "      <td>                   GENERAL AGRICULTURE</td>\n",
       "      <td> Agriculture &amp; Natural Resources</td>\n",
       "      <td> 128148</td>\n",
       "      <td> 90245</td>\n",
       "      <td> 74078</td>\n",
       "      <td> 2423</td>\n",
       "      <td> 0.026147</td>\n",
       "      <td> 50000</td>\n",
       "      <td> 34000</td>\n",
       "      <td> 80000</td>\n",
       "    </tr>\n",
       "    <tr>\n",
       "      <th>1</th>\n",
       "      <td> 1</td>\n",
       "      <td> 1101</td>\n",
       "      <td> AGRICULTURE PRODUCTION AND MANAGEMENT</td>\n",
       "      <td> Agriculture &amp; Natural Resources</td>\n",
       "      <td>  95326</td>\n",
       "      <td> 76865</td>\n",
       "      <td> 64240</td>\n",
       "      <td> 2266</td>\n",
       "      <td> 0.028636</td>\n",
       "      <td> 54000</td>\n",
       "      <td> 36000</td>\n",
       "      <td> 80000</td>\n",
       "    </tr>\n",
       "    <tr>\n",
       "      <th>2</th>\n",
       "      <td> 2</td>\n",
       "      <td> 1102</td>\n",
       "      <td>                AGRICULTURAL ECONOMICS</td>\n",
       "      <td> Agriculture &amp; Natural Resources</td>\n",
       "      <td>  33955</td>\n",
       "      <td> 26321</td>\n",
       "      <td> 22810</td>\n",
       "      <td>  821</td>\n",
       "      <td> 0.030248</td>\n",
       "      <td> 63000</td>\n",
       "      <td> 40000</td>\n",
       "      <td> 98000</td>\n",
       "    </tr>\n",
       "    <tr>\n",
       "      <th>3</th>\n",
       "      <td> 3</td>\n",
       "      <td> 1103</td>\n",
       "      <td>                       ANIMAL SCIENCES</td>\n",
       "      <td> Agriculture &amp; Natural Resources</td>\n",
       "      <td> 103549</td>\n",
       "      <td> 81177</td>\n",
       "      <td> 64937</td>\n",
       "      <td> 3619</td>\n",
       "      <td> 0.042679</td>\n",
       "      <td> 46000</td>\n",
       "      <td> 30000</td>\n",
       "      <td> 72000</td>\n",
       "    </tr>\n",
       "    <tr>\n",
       "      <th>4</th>\n",
       "      <td> 4</td>\n",
       "      <td> 1104</td>\n",
       "      <td>                          FOOD SCIENCE</td>\n",
       "      <td> Agriculture &amp; Natural Resources</td>\n",
       "      <td>  24280</td>\n",
       "      <td> 17281</td>\n",
       "      <td> 12722</td>\n",
       "      <td>  894</td>\n",
       "      <td> 0.049188</td>\n",
       "      <td> 62000</td>\n",
       "      <td> 38500</td>\n",
       "      <td> 90000</td>\n",
       "    </tr>\n",
       "  </tbody>\n",
       "</table>\n",
       "</div>"
      ],
      "text/plain": [
       "   Unnamed: 0  Major_code                                  Major  \\\n",
       "0           0        1100                    GENERAL AGRICULTURE   \n",
       "1           1        1101  AGRICULTURE PRODUCTION AND MANAGEMENT   \n",
       "2           2        1102                 AGRICULTURAL ECONOMICS   \n",
       "3           3        1103                        ANIMAL SCIENCES   \n",
       "4           4        1104                           FOOD SCIENCE   \n",
       "\n",
       "                    Major_category   Total  Employed  \\\n",
       "0  Agriculture & Natural Resources  128148     90245   \n",
       "1  Agriculture & Natural Resources   95326     76865   \n",
       "2  Agriculture & Natural Resources   33955     26321   \n",
       "3  Agriculture & Natural Resources  103549     81177   \n",
       "4  Agriculture & Natural Resources   24280     17281   \n",
       "\n",
       "   Employed_full_time_year_round  Unemployed  Unemployment_rate  Median  \\\n",
       "0                          74078        2423           0.026147   50000   \n",
       "1                          64240        2266           0.028636   54000   \n",
       "2                          22810         821           0.030248   63000   \n",
       "3                          64937        3619           0.042679   46000   \n",
       "4                          12722         894           0.049188   62000   \n",
       "\n",
       "   P25th  P75th  \n",
       "0  34000  80000  \n",
       "1  36000  80000  \n",
       "2  40000  98000  \n",
       "3  30000  72000  \n",
       "4  38500  90000  "
      ]
     },
     "execution_count": 22,
     "metadata": {},
     "output_type": "execute_result"
    }
   ],
   "source": [
    "majors.head()"
   ]
  },
  {
   "cell_type": "code",
   "execution_count": 23,
   "metadata": {
    "collapsed": false
   },
   "outputs": [
    {
     "data": {
      "text/plain": [
       "AEROSPACE ENGINEERING                                           1\n",
       "FOOD SCIENCE                                                    1\n",
       "COMMUNICATION TECHNOLOGIES                                      1\n",
       "MECHANICAL ENGINEERING RELATED TECHNOLOGIES                     1\n",
       "MASS MEDIA                                                      1\n",
       "AGRICULTURE PRODUCTION AND MANAGEMENT                           1\n",
       "ART AND MUSIC EDUCATION                                         1\n",
       "PLANT SCIENCE AND AGRONOMY                                      1\n",
       "SECONDARY TEACHER EDUCATION                                     1\n",
       "MISCELLANEOUS SOCIAL SCIENCES                                   1\n",
       "VISUAL AND PERFORMING ARTS                                      1\n",
       "GENERAL MEDICAL AND HEALTH SERVICES                             1\n",
       "ASTRONOMY AND ASTROPHYSICS                                      1\n",
       "FRENCH GERMAN LATIN AND OTHER COMMON FOREIGN LANGUAGE STUDIES    1\n",
       "MISCELLANEOUS ENGINEERING TECHNOLOGIES                          1\n",
       "...\n",
       "CHEMICAL ENGINEERING                               1\n",
       "HEALTH AND MEDICAL PREPARATORY PROGRAMS            1\n",
       "MISCELLANEOUS BUSINESS & MEDICAL ADMINISTRATION    1\n",
       "MISCELLANEOUS BIOLOGY                              1\n",
       "MATERIALS ENGINEERING AND MATERIALS SCIENCE        1\n",
       "SOCIAL PSYCHOLOGY                                  1\n",
       "MICROBIOLOGY                                       1\n",
       "COMPUTER AND INFORMATION SYSTEMS                   1\n",
       "BUSINESS MANAGEMENT AND ADMINISTRATION             1\n",
       "PHYSICAL SCIENCES                                  1\n",
       "INFORMATION SCIENCES                               1\n",
       "PUBLIC ADMINISTRATION                              1\n",
       "COMPOSITION AND RHETORIC                           1\n",
       "INTERCULTURAL AND INTERNATIONAL STUDIES            1\n",
       "ENGLISH LANGUAGE AND LITERATURE                    1\n",
       "Length: 173, dtype: int64"
      ]
     },
     "execution_count": 23,
     "metadata": {},
     "output_type": "execute_result"
    }
   ],
   "source": [
    "majors.Major.value_counts()"
   ]
  },
  {
   "cell_type": "code",
   "execution_count": 24,
   "metadata": {
    "collapsed": false
   },
   "outputs": [
    {
     "data": {
      "text/html": [
       "<div style=\"max-height:1000px;max-width:1500px;overflow:auto;\">\n",
       "<table border=\"1\" class=\"dataframe\">\n",
       "  <thead>\n",
       "    <tr style=\"text-align: right;\">\n",
       "      <th></th>\n",
       "      <th>Major</th>\n",
       "      <th>Median</th>\n",
       "    </tr>\n",
       "  </thead>\n",
       "  <tbody>\n",
       "    <tr>\n",
       "      <th>59 </th>\n",
       "      <td>                             PETROLEUM ENGINEERING</td>\n",
       "      <td> 125000</td>\n",
       "    </tr>\n",
       "    <tr>\n",
       "      <th>154</th>\n",
       "      <td> PHARMACY PHARMACEUTICAL SCIENCES AND ADMINISTR...</td>\n",
       "      <td> 106000</td>\n",
       "    </tr>\n",
       "    <tr>\n",
       "      <th>57 </th>\n",
       "      <td>         NAVAL ARCHITECTURE AND MARINE ENGINEERING</td>\n",
       "      <td>  97000</td>\n",
       "    </tr>\n",
       "    <tr>\n",
       "      <th>55 </th>\n",
       "      <td>                         METALLURGICAL ENGINEERING</td>\n",
       "      <td>  96000</td>\n",
       "    </tr>\n",
       "    <tr>\n",
       "      <th>58 </th>\n",
       "      <td>                               NUCLEAR ENGINEERING</td>\n",
       "      <td>  95000</td>\n",
       "    </tr>\n",
       "    <tr>\n",
       "      <th>56 </th>\n",
       "      <td>                    MINING AND MINERAL ENGINEERING</td>\n",
       "      <td>  92000</td>\n",
       "    </tr>\n",
       "    <tr>\n",
       "      <th>97 </th>\n",
       "      <td>                  MATHEMATICS AND COMPUTER SCIENCE</td>\n",
       "      <td>  92000</td>\n",
       "    </tr>\n",
       "    <tr>\n",
       "      <th>48 </th>\n",
       "      <td>                            ELECTRICAL ENGINEERING</td>\n",
       "      <td>  88000</td>\n",
       "    </tr>\n",
       "    <tr>\n",
       "      <th>45 </th>\n",
       "      <td>                              CHEMICAL ENGINEERING</td>\n",
       "      <td>  86000</td>\n",
       "    </tr>\n",
       "    <tr>\n",
       "      <th>51 </th>\n",
       "      <td>            GEOLOGICAL AND GEOPHYSICAL ENGINEERING</td>\n",
       "      <td>  85000</td>\n",
       "    </tr>\n",
       "  </tbody>\n",
       "</table>\n",
       "</div>"
      ],
      "text/plain": [
       "                                                 Major  Median\n",
       "59                               PETROLEUM ENGINEERING  125000\n",
       "154  PHARMACY PHARMACEUTICAL SCIENCES AND ADMINISTR...  106000\n",
       "57           NAVAL ARCHITECTURE AND MARINE ENGINEERING   97000\n",
       "55                           METALLURGICAL ENGINEERING   96000\n",
       "58                                 NUCLEAR ENGINEERING   95000\n",
       "56                      MINING AND MINERAL ENGINEERING   92000\n",
       "97                    MATHEMATICS AND COMPUTER SCIENCE   92000\n",
       "48                              ELECTRICAL ENGINEERING   88000\n",
       "45                                CHEMICAL ENGINEERING   86000\n",
       "51              GEOLOGICAL AND GEOPHYSICAL ENGINEERING   85000"
      ]
     },
     "execution_count": 24,
     "metadata": {},
     "output_type": "execute_result"
    }
   ],
   "source": [
    "majors.sort('Median', ascending=False).head(10)[['Major','Median']]"
   ]
  },
  {
   "cell_type": "code",
   "execution_count": 25,
   "metadata": {
    "collapsed": false
   },
   "outputs": [],
   "source": [
    "del majors['Employed_full_time_year_round']\n",
    "del majors['Major_code']"
   ]
  },
  {
   "cell_type": "code",
   "execution_count": 26,
   "metadata": {
    "collapsed": false,
    "scrolled": true
   },
   "outputs": [
    {
     "data": {
      "text/plain": [
       "Unnamed: 0           0\n",
       "Major                0\n",
       "Major_category       0\n",
       "Total                0\n",
       "Employed             0\n",
       "Unemployed           0\n",
       "Unemployment_rate    0\n",
       "Median               0\n",
       "P25th                0\n",
       "P75th                0\n",
       "dtype: int64"
      ]
     },
     "execution_count": 26,
     "metadata": {},
     "output_type": "execute_result"
    }
   ],
   "source": [
    "majors.isnull().sum()"
   ]
  },
  {
   "cell_type": "code",
   "execution_count": 27,
   "metadata": {
    "collapsed": false
   },
   "outputs": [
    {
     "data": {
      "text/plain": [
       "AEROSPACE ENGINEERING                                           1\n",
       "FOOD SCIENCE                                                    1\n",
       "COMMUNICATION TECHNOLOGIES                                      1\n",
       "MECHANICAL ENGINEERING RELATED TECHNOLOGIES                     1\n",
       "MASS MEDIA                                                      1\n",
       "AGRICULTURE PRODUCTION AND MANAGEMENT                           1\n",
       "ART AND MUSIC EDUCATION                                         1\n",
       "PLANT SCIENCE AND AGRONOMY                                      1\n",
       "SECONDARY TEACHER EDUCATION                                     1\n",
       "MISCELLANEOUS SOCIAL SCIENCES                                   1\n",
       "VISUAL AND PERFORMING ARTS                                      1\n",
       "GENERAL MEDICAL AND HEALTH SERVICES                             1\n",
       "ASTRONOMY AND ASTROPHYSICS                                      1\n",
       "FRENCH GERMAN LATIN AND OTHER COMMON FOREIGN LANGUAGE STUDIES    1\n",
       "MISCELLANEOUS ENGINEERING TECHNOLOGIES                          1\n",
       "...\n",
       "CHEMICAL ENGINEERING                               1\n",
       "HEALTH AND MEDICAL PREPARATORY PROGRAMS            1\n",
       "MISCELLANEOUS BUSINESS & MEDICAL ADMINISTRATION    1\n",
       "MISCELLANEOUS BIOLOGY                              1\n",
       "MATERIALS ENGINEERING AND MATERIALS SCIENCE        1\n",
       "SOCIAL PSYCHOLOGY                                  1\n",
       "MICROBIOLOGY                                       1\n",
       "COMPUTER AND INFORMATION SYSTEMS                   1\n",
       "BUSINESS MANAGEMENT AND ADMINISTRATION             1\n",
       "PHYSICAL SCIENCES                                  1\n",
       "INFORMATION SCIENCES                               1\n",
       "PUBLIC ADMINISTRATION                              1\n",
       "COMPOSITION AND RHETORIC                           1\n",
       "INTERCULTURAL AND INTERNATIONAL STUDIES            1\n",
       "ENGLISH LANGUAGE AND LITERATURE                    1\n",
       "Length: 173, dtype: int64"
      ]
     },
     "execution_count": 27,
     "metadata": {},
     "output_type": "execute_result"
    }
   ],
   "source": [
    "majors.Major.value_counts()"
   ]
  },
  {
   "cell_type": "code",
   "execution_count": 28,
   "metadata": {
    "collapsed": false
   },
   "outputs": [
    {
     "data": {
      "image/png": "[encoded data removed]",
      "text/plain": [
       "<matplotlib.figure.Figure at 0x10addc6d0>"
      ]
     },
     "metadata": {},
     "output_type": "display_data"
    }
   ],
   "source": [
    "majors.sort('Median', ascending=False).head(10)[['Major','Median']].plot(x='Major',y='Median', kind='bar', title='Top 10 Highest Paying Majors')\n",
    "plt.xlabel('Majors')\n",
    "plt.ylabel('Median Salary')\n",
    "plt.show()"
   ]
  },
  {
   "cell_type": "code",
   "execution_count": 29,
   "metadata": {
    "collapsed": false
   },
   "outputs": [
    {
     "data": {
      "text/html": [
       "<div style=\"max-height:1000px;max-width:1500px;overflow:auto;\">\n",
       "<table border=\"1\" class=\"dataframe\">\n",
       "  <thead>\n",
       "    <tr style=\"text-align: right;\">\n",
       "      <th></th>\n",
       "      <th>Major_category</th>\n",
       "      <th>Median</th>\n",
       "    </tr>\n",
       "  </thead>\n",
       "  <tbody>\n",
       "    <tr>\n",
       "      <th>59 </th>\n",
       "      <td>             Engineering</td>\n",
       "      <td> 125000</td>\n",
       "    </tr>\n",
       "    <tr>\n",
       "      <th>154</th>\n",
       "      <td>                  Health</td>\n",
       "      <td> 106000</td>\n",
       "    </tr>\n",
       "    <tr>\n",
       "      <th>57 </th>\n",
       "      <td>             Engineering</td>\n",
       "      <td>  97000</td>\n",
       "    </tr>\n",
       "    <tr>\n",
       "      <th>55 </th>\n",
       "      <td>             Engineering</td>\n",
       "      <td>  96000</td>\n",
       "    </tr>\n",
       "    <tr>\n",
       "      <th>58 </th>\n",
       "      <td>             Engineering</td>\n",
       "      <td>  95000</td>\n",
       "    </tr>\n",
       "    <tr>\n",
       "      <th>56 </th>\n",
       "      <td>             Engineering</td>\n",
       "      <td>  92000</td>\n",
       "    </tr>\n",
       "    <tr>\n",
       "      <th>97 </th>\n",
       "      <td> Computers &amp; Mathematics</td>\n",
       "      <td>  92000</td>\n",
       "    </tr>\n",
       "    <tr>\n",
       "      <th>48 </th>\n",
       "      <td>             Engineering</td>\n",
       "      <td>  88000</td>\n",
       "    </tr>\n",
       "    <tr>\n",
       "      <th>45 </th>\n",
       "      <td>             Engineering</td>\n",
       "      <td>  86000</td>\n",
       "    </tr>\n",
       "    <tr>\n",
       "      <th>51 </th>\n",
       "      <td>             Engineering</td>\n",
       "      <td>  85000</td>\n",
       "    </tr>\n",
       "  </tbody>\n",
       "</table>\n",
       "</div>"
      ],
      "text/plain": [
       "              Major_category  Median\n",
       "59               Engineering  125000\n",
       "154                   Health  106000\n",
       "57               Engineering   97000\n",
       "55               Engineering   96000\n",
       "58               Engineering   95000\n",
       "56               Engineering   92000\n",
       "97   Computers & Mathematics   92000\n",
       "48               Engineering   88000\n",
       "45               Engineering   86000\n",
       "51               Engineering   85000"
      ]
     },
     "execution_count": 29,
     "metadata": {},
     "output_type": "execute_result"
    }
   ],
   "source": [
    "majors.sort('Median', ascending=False).head(10)[['Major_category','Median']]"
   ]
  },
  {
   "cell_type": "code",
   "execution_count": 30,
   "metadata": {
    "collapsed": false
   },
   "outputs": [
    {
     "data": {
      "text/plain": [
       "Major_category\n",
       "Agriculture & Natural Resources        55000.000000\n",
       "Arts                                   43525.000000\n",
       "Biology & Life Science                 50821.428571\n",
       "Business                               60615.384615\n",
       "Communications & Journalism            49500.000000\n",
       "Computers & Mathematics                66272.727273\n",
       "Education                              43831.250000\n",
       "Engineering                            77758.620690\n",
       "Health                                 56458.333333\n",
       "Humanities & Liberal Arts              46080.000000\n",
       "Industrial Arts & Consumer Services    52642.857143\n",
       "Interdisciplinary                      43000.000000\n",
       "Law & Public Policy                    52800.000000\n",
       "Physical Sciences                      62400.000000\n",
       "Psychology & Social Work               44555.555556\n",
       "Social Science                         53222.222222\n",
       "Name: Median, dtype: float64"
      ]
     },
     "execution_count": 30,
     "metadata": {},
     "output_type": "execute_result"
    }
   ],
   "source": [
    "majors.groupby('Major_category').Median.mean()"
   ]
  },
  {
   "cell_type": "code",
   "execution_count": 31,
   "metadata": {
    "collapsed": false
   },
   "outputs": [
    {
     "data": {
      "text/plain": [
       "<matplotlib.axes._subplots.AxesSubplot at 0x10aedc290>"
      ]
     },
     "execution_count": 31,
     "metadata": {},
     "output_type": "execute_result"
    },
    {
     "data": {
      "image/png": "[encoded data removed]",
      "text/plain": [
       "<matplotlib.figure.Figure at 0x10add2e10>"
      ]
     },
     "metadata": {},
     "output_type": "display_data"
    }
   ],
   "source": [
    "majors.Median.hist()"
   ]
  },
  {
   "cell_type": "code",
   "execution_count": 34,
   "metadata": {
    "collapsed": false
   },
   "outputs": [
    {
     "data": {
      "text/plain": [
       "<matplotlib.axes._subplots.AxesSubplot at 0x10b70b750>"
      ]
     },
     "execution_count": 34,
     "metadata": {},
     "output_type": "execute_result"
    },
    {
     "data": {
      "image/png": "[encoded data removed]",
      "text/plain": [
       "<matplotlib.figure.Figure at 0x10b70b350>"
      ]
     },
     "metadata": {},
     "output_type": "display_data"
    }
   ],
   "source": [
    "# 8. Plot a histogram of the distribution of median salaries by major category\n",
    "\n",
    "majors.groupby('Major_category').Median.mean().plot(kind='bar')"
   ]
  }
 ],
 "metadata": {
  "kernelspec": {
   "display_name": "Python 2",
   "language": "python",
   "name": "python2"
  },
  "language_info": {
   "codemirror_mode": {
    "name": "ipython",
    "version": 2
   },
   "file_extension": ".py",
   "mimetype": "text/x-python",
   "name": "python",
   "nbconvert_exporter": "python",
   "pygments_lexer": "ipython2",
   "version": "2.7.10"
  }
 },
 "nbformat": 4,
 "nbformat_minor": 0
}
