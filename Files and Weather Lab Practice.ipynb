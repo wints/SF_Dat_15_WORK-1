{
 "cells": [
  {
   "cell_type": "code",
   "execution_count": 1,
   "metadata": {
    "collapsed": true
   },
   "outputs": [],
   "source": [
    "import csv\n",
    "import numpy\n",
    "import decimal\n",
    "from datetime import datetime\n",
    "import matplotlib.pyplot as plt\n",
    "%matplotlib inline"
   ]
  },
  {
   "cell_type": "code",
   "execution_count": null,
   "metadata": {
    "collapsed": true
   },
   "outputs": [],
   "source": [
    "with open('../data/drinks.csv', 'rU') as f:\n",
    "    header = csv.reader(f).next()\n",
    "    data= [row for row in csv.reader(f)]"
   ]
  },
  {
   "cell_type": "code",
   "execution_count": 21,
   "metadata": {
    "collapsed": false
   },
   "outputs": [],
   "source": [
    "#creating beer list\n",
    "beers_list = [data[x][1] for x in range(len(data))]\n",
    "beers=[]\n",
    "for x in range(len(data)):\n",
    "    beers.append(data[x][1])"
   ]
  },
  {
   "cell_type": "code",
   "execution_count": 118,
   "metadata": {
    "collapsed": false
   },
   "outputs": [],
   "source": [
    "#creating EU Beers in List and Loop\n",
    "EU_beers_list = [data[x][1] for x in range(len(data)) if data[x][5] == 'EU']\n",
    "EU_beers=[]\n",
    "for x in range(len(data)):\n",
    "    if data[x][5] == 'EU':\n",
    "        EU_beers.append(data[x][1])"
   ]
  },
  {
   "cell_type": "code",
   "execution_count": 83,
   "metadata": {
    "collapsed": false
   },
   "outputs": [],
   "source": [
    "#creating NA_beers list\n",
    "NA_beers = [data[x][1] for x in range(len(data)) if data[x][5] == 'NA']"
   ]
  },
  {
   "cell_type": "code",
   "execution_count": 108,
   "metadata": {
    "collapsed": false
   },
   "outputs": [],
   "source": [
    "#Finding Averages of NA and EU\n",
    "\n",
    "#converting values within list into float\n",
    "NA_beers=map(float, NA_beers)\n",
    "EU_beers=map(float, EU_beers)\n",
    "\n",
    "NA_avg=reduce(lambda x,y: x+y, NA_beers)/len(NA_beers)\n",
    "EU_avg=reduce(lambda x,y: x+y, EU_beers)/len(EU_beers)\n",
    "#reduce makes it in a string\n",
    "#lambda creates a tuple\n",
    "\n",
    "NA_avg=format(NA_avg, '.2f')\n",
    "EU_avg=format(EU_avg, '.2f')\n",
    "#getcontext().prec = 2\n",
    "#Decimal(NA_avg).quantize(Decimal('.01'), rounding=ROUND_DOWN)\n"
   ]
  },
  {
   "cell_type": "code",
   "execution_count": 110,
   "metadata": {
    "collapsed": true
   },
   "outputs": [],
   "source": [
    "output = [['continent', 'avg_beer'], ['NA', NA_avg], ['EU', EU_avg]]\n",
    "with open('avg_beer.csv', 'wb') as f:\n",
    "    for row in output:\n",
    "        csv.writer(f).writerow(row)"
   ]
  },
  {
   "cell_type": "code",
   "execution_count": 117,
   "metadata": {
    "collapsed": false,
    "scrolled": true
   },
   "outputs": [
    {
     "name": "stdout",
     "output_type": "stream",
     "text": [
      "continent,avg_beer\n",
      "\n",
      "NA,145.43\n",
      "\n",
      "EU,193.78\n",
      "\n"
     ]
    }
   ],
   "source": [
    "f = open('avg_beer.csv', 'rU')\n",
    "print(f.readline())\n",
    "print(f.readline())\n",
    "print(f.readline())\n",
    "f.close()"
   ]
  },
  {
   "cell_type": "code",
   "execution_count": 128,
   "metadata": {
    "collapsed": true
   },
   "outputs": [],
   "source": [
    "import requests\n",
    "import json\n",
    "import urllib2"
   ]
  },
  {
   "cell_type": "code",
   "execution_count": 163,
   "metadata": {
    "collapsed": false
   },
   "outputs": [
    {
     "data": {
      "text/plain": [
       "[u'city', u'message', u'list', u'cod', u'cnt']"
      ]
     },
     "execution_count": 163,
     "metadata": {},
     "output_type": "execute_result"
    }
   ],
   "source": [
    "api_endpoint = 'http://api.openweathermap.org/data/2.5/forecast/daily'\n",
    "params = {}\n",
    "params['q'] = 'London'\n",
    "params['units'] = 'imperial'\n",
    "params['cnt'] = '7'\n",
    "\n",
    "response= requests.get(api_endpoint, params=params)\n",
    "weather = response.json()\n",
    "weather.keys()"
   ]
  },
  {
   "cell_type": "code",
   "execution_count": 180,
   "metadata": {
    "collapsed": false
   },
   "outputs": [],
   "source": [
    "#weather['city']\n",
    "#weather['cnt']\n",
    "weather_data=weather['list']"
   ]
  },
  {
   "cell_type": "code",
   "execution_count": 193,
   "metadata": {
    "collapsed": false,
    "scrolled": true
   },
   "outputs": [
    {
     "data": {
      "text/plain": [
       "[{u'clouds': 8,\n",
       "  u'deg': 204,\n",
       "  u'dt': 1434992400,\n",
       "  u'humidity': 68,\n",
       "  u'pressure': 989.74,\n",
       "  u'rain': 30.9,\n",
       "  u'speed': 13.95,\n",
       "  u'temp': {u'day': 75.63,\n",
       "   u'eve': 72.82,\n",
       "   u'max': 75.63,\n",
       "   u'min': 65.88,\n",
       "   u'morn': 75.63,\n",
       "   u'night': 67.51},\n",
       "  u'weather': [{u'description': u'heavy intensity rain',\n",
       "    u'icon': u'10d',\n",
       "    u'id': 502,\n",
       "    u'main': u'Rain'}]},\n",
       " {u'clouds': 12,\n",
       "  u'deg': 300,\n",
       "  u'dt': 1435078800,\n",
       "  u'humidity': 85,\n",
       "  u'pressure': 988.72,\n",
       "  u'speed': 20.35,\n",
       "  u'temp': {u'day': 70.12,\n",
       "   u'eve': 66.15,\n",
       "   u'max': 70.12,\n",
       "   u'min': 51.53,\n",
       "   u'morn': 67.05,\n",
       "   u'night': 51.53},\n",
       "  u'weather': [{u'description': u'few clouds',\n",
       "    u'icon': u'02d',\n",
       "    u'id': 801,\n",
       "    u'main': u'Clouds'}]},\n",
       " {u'clouds': 24,\n",
       "  u'deg': 317,\n",
       "  u'dt': 1435165200,\n",
       "  u'humidity': 87,\n",
       "  u'pressure': 997.41,\n",
       "  u'speed': 7.65,\n",
       "  u'temp': {u'day': 71.08,\n",
       "   u'eve': 68.97,\n",
       "   u'max': 71.94,\n",
       "   u'min': 54.81,\n",
       "   u'morn': 54.81,\n",
       "   u'night': 61.93},\n",
       "  u'weather': [{u'description': u'few clouds',\n",
       "    u'icon': u'02d',\n",
       "    u'id': 801,\n",
       "    u'main': u'Clouds'}]},\n",
       " {u'clouds': 96,\n",
       "  u'deg': 164,\n",
       "  u'dt': 1435251600,\n",
       "  u'humidity': 0,\n",
       "  u'pressure': 997.37,\n",
       "  u'rain': 1.45,\n",
       "  u'speed': 6.85,\n",
       "  u'temp': {u'day': 71.35,\n",
       "   u'eve': 71.15,\n",
       "   u'max': 71.35,\n",
       "   u'min': 63.52,\n",
       "   u'morn': 65.19,\n",
       "   u'night': 63.52},\n",
       "  u'weather': [{u'description': u'light rain',\n",
       "    u'icon': u'10d',\n",
       "    u'id': 500,\n",
       "    u'main': u'Rain'}]},\n",
       " {u'clouds': 61,\n",
       "  u'deg': 102,\n",
       "  u'dt': 1435338000,\n",
       "  u'humidity': 0,\n",
       "  u'pressure': 994.16,\n",
       "  u'rain': 1.04,\n",
       "  u'speed': 17.41,\n",
       "  u'temp': {u'day': 72.12,\n",
       "   u'eve': 70.38,\n",
       "   u'max': 72.12,\n",
       "   u'min': 63.97,\n",
       "   u'morn': 63.97,\n",
       "   u'night': 65.34},\n",
       "  u'weather': [{u'description': u'light rain',\n",
       "    u'icon': u'10d',\n",
       "    u'id': 500,\n",
       "    u'main': u'Rain'}]},\n",
       " {u'clouds': 80,\n",
       "  u'deg': 117,\n",
       "  u'dt': 1435424400,\n",
       "  u'humidity': 0,\n",
       "  u'pressure': 992.28,\n",
       "  u'rain': 11.72,\n",
       "  u'speed': 11.3,\n",
       "  u'temp': {u'day': 68.41,\n",
       "   u'eve': 67.44,\n",
       "   u'max': 68.41,\n",
       "   u'min': 64.62,\n",
       "   u'morn': 64.62,\n",
       "   u'night': 64.83},\n",
       "  u'weather': [{u'description': u'moderate rain',\n",
       "    u'icon': u'10d',\n",
       "    u'id': 501,\n",
       "    u'main': u'Rain'}]},\n",
       " {u'clouds': 100,\n",
       "  u'deg': 79,\n",
       "  u'dt': 1435510800,\n",
       "  u'humidity': 0,\n",
       "  u'pressure': 985.39,\n",
       "  u'rain': 30.94,\n",
       "  u'speed': 18.32,\n",
       "  u'temp': {u'day': 60.24,\n",
       "   u'eve': 60.94,\n",
       "   u'max': 65.16,\n",
       "   u'min': 57.45,\n",
       "   u'morn': 65.16,\n",
       "   u'night': 57.45},\n",
       "  u'weather': [{u'description': u'heavy intensity rain',\n",
       "    u'icon': u'10d',\n",
       "    u'id': 502,\n",
       "    u'main': u'Rain'}]}]"
      ]
     },
     "execution_count": 193,
     "metadata": {},
     "output_type": "execute_result"
    }
   ],
   "source": [
    "weather_data"
   ]
  },
  {
   "cell_type": "code",
   "execution_count": 195,
   "metadata": {
    "collapsed": false
   },
   "outputs": [],
   "source": [
    "temperatures = [data_point['temp'] for data_point in weather_data]"
   ]
  },
  {
   "cell_type": "code",
   "execution_count": 199,
   "metadata": {
    "collapsed": false
   },
   "outputs": [],
   "source": [
    "humidities = [data_point['humidity'] for data_point in weather_data]"
   ]
  },
  {
   "cell_type": "code",
   "execution_count": 202,
   "metadata": {
    "collapsed": false
   },
   "outputs": [],
   "source": [
    "dates = [data_point['dt'] for data_point in weather_data]\n",
    "dates = [datetime.fromtimestamp(epoch) for epoch in dates]"
   ]
  },
  {
   "cell_type": "code",
   "execution_count": 203,
   "metadata": {
    "collapsed": false
   },
   "outputs": [
    {
     "data": {
      "text/plain": [
       "[datetime.datetime(2015, 6, 22, 10, 0),\n",
       " datetime.datetime(2015, 6, 23, 10, 0),\n",
       " datetime.datetime(2015, 6, 24, 10, 0),\n",
       " datetime.datetime(2015, 6, 25, 10, 0),\n",
       " datetime.datetime(2015, 6, 26, 10, 0),\n",
       " datetime.datetime(2015, 6, 27, 10, 0),\n",
       " datetime.datetime(2015, 6, 28, 10, 0)]"
      ]
     },
     "execution_count": 203,
     "metadata": {},
     "output_type": "execute_result"
    }
   ],
   "source": [
    "dates"
   ]
  },
  {
   "cell_type": "code",
   "execution_count": 217,
   "metadata": {
    "collapsed": false
   },
   "outputs": [],
   "source": [
    "pressures = [data_point['pressure'] for data_point in weather_data]"
   ]
  },
  {
   "cell_type": "code",
   "execution_count": 211,
   "metadata": {
    "collapsed": false
   },
   "outputs": [],
   "source": [
    "temp_day = [data_point['day'] for data_point in temperatures]"
   ]
  },
  {
   "cell_type": "code",
   "execution_count": 213,
   "metadata": {
    "collapsed": false
   },
   "outputs": [
    {
     "data": {
      "text/plain": [
       "[75.63, 70.12, 71.08, 71.35, 72.12, 68.41, 60.24]"
      ]
     },
     "execution_count": 213,
     "metadata": {},
     "output_type": "execute_result"
    }
   ],
   "source": [
    "temp_day"
   ]
  },
  {
   "cell_type": "code",
   "execution_count": 220,
   "metadata": {
    "collapsed": false
   },
   "outputs": [
    {
     "data": {
      "text/plain": [
       "[<matplotlib.lines.Line2D at 0x10da65dd0>]"
      ]
     },
     "execution_count": 220,
     "metadata": {},
     "output_type": "execute_result"
    },
    {
     "data": {
      "image/png": "[encoded data removed]",
      "text/plain": [
       "<matplotlib.figure.Figure at 0x10b0b1890>"
      ]
     },
     "metadata": {},
     "output_type": "display_data"
    }
   ],
   "source": [
    "plt.plot(dates, pressures)\n",
    "\n",
    "plt.xlabel(\"Date\")                          # set the x axis label\n",
    "plt.ylabel(\"Pressures\")         # set the y axis label\n",
    "plt.title(\"Pressures in London\")  # set the title\n",
    "locs, labels = plt.xticks()                 # get the x tick marks\n",
    "plt.setp(labels, rotation=70)               # rotate the x ticks marks by 70 degrees\n",
    "plt.plot(dates, pressures)               # plot again :)"
   ]
  },
  {
   "cell_type": "code",
   "execution_count": 232,
   "metadata": {
    "collapsed": false
   },
   "outputs": [
    {
     "data": {
      "text/plain": [
       "[<matplotlib.lines.Line2D at 0x10e2f9690>]"
      ]
     },
     "execution_count": 232,
     "metadata": {},
     "output_type": "execute_result"
    },
    {
     "data": {
      "image/png": "[encoded data removed]",
      "text/plain": [
       "<matplotlib.figure.Figure at 0x10e0efd50>"
      ]
     },
     "metadata": {},
     "output_type": "display_data"
    }
   ],
   "source": [
    "plt.legend()\n",
    "locs, labels = plt.xticks()                 \n",
    "plt.setp(labels, rotation=70)     \n",
    "plt.plot(dates, humidities, label='Humidity')\n",
    "plt.plot(dates, temp_day, marker='o', linestyle='--', color='r', label='Temperature')\n",
    "plt.plot(dates, pressures, marker='x', linestyle='--', color='g', label='Pressure')"
   ]
  },
  {
   "cell_type": "code",
   "execution_count": 229,
   "metadata": {
    "collapsed": false
   },
   "outputs": [],
   "source": [
    " #normalized data\n",
    "temp_norm = [float(t) / max(temp_day) for t in temp_day]\n",
    "hum_norm = [float(h) / max(humidities) for h in humidities]\n",
    "press_norm = [float(p) / max(pressures) for p in pressures]"
   ]
  },
  {
   "cell_type": "code",
   "execution_count": 248,
   "metadata": {
    "collapsed": false
   },
   "outputs": [
    {
     "data": {
      "text/plain": [
       "[<matplotlib.lines.Line2D at 0x10f535b50>]"
      ]
     },
     "execution_count": 248,
     "metadata": {},
     "output_type": "execute_result"
    },
    {
     "data": {
      "image/png": "[encoded data removed]",
      "text/plain": [
       "<matplotlib.figure.Figure at 0x10f2e7210>"
      ]
     },
     "metadata": {},
     "output_type": "display_data"
    }
   ],
   "source": [
    "import matplotlib.figure as fig\n",
    "#Figure.set_size_inches(18.5, 10.5)\n",
    "#plt.figure(figsize=(20,10))\n",
    "#plt.ticklabel_format(style='sci', axis='y', ylim=(0,2))\n",
    "matplotlib.pyplot.ylim(ymax=1.5) \n",
    "plt.legend()                            \n",
    "locs, labels = plt.xticks()                 \n",
    "plt.setp(labels, rotation=70)     \n",
    "plt.plot(dates, hum_norm, label='Humidity')\n",
    "plt.plot(dates, temp_norm, marker='o', linestyle='--', color='r', label='Temperature')\n",
    "plt.plot(dates, press_norm, marker='x', linestyle='--', color='g', label='Pressure')"
   ]
  },
  {
   "cell_type": "code",
   "execution_count": 197,
   "metadata": {
    "collapsed": false
   },
   "outputs": [
    {
     "data": {
      "text/plain": [
       "145.43478260869566"
      ]
     },
     "execution_count": 197,
     "metadata": {},
     "output_type": "execute_result"
    }
   ],
   "source": [
    "#numpy array\n",
    "#NA_beers=np.asarray(NA_beers)\n",
    "np.mean(NA_beers)"
   ]
  }
 ],
 "metadata": {
  "kernelspec": {
   "display_name": "Python 2",
   "language": "python",
   "name": "python2"
  },
  "language_info": {
   "codemirror_mode": {
    "name": "ipython",
    "version": 2
   },
   "file_extension": ".py",
   "mimetype": "text/x-python",
   "name": "python",
   "nbconvert_exporter": "python",
   "pygments_lexer": "ipython2",
   "version": "2.7.10"
  }
 },
 "nbformat": 4,
 "nbformat_minor": 0
}
